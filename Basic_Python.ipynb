{
  "nbformat": 4,
  "nbformat_minor": 0,
  "metadata": {
    "colab": {
      "provenance": []
    },
    "kernelspec": {
      "name": "python3",
      "display_name": "Python 3"
    },
    "language_info": {
      "name": "python"
    }
  },
  "cells": [
    {
      "cell_type": "markdown",
      "source": [
        "Q1."
      ],
      "metadata": {
        "id": "sqlKqyzO6p2B"
      }
    },
    {
      "cell_type": "code",
      "execution_count": 1,
      "metadata": {
        "colab": {
          "base_uri": "https://localhost:8080/"
        },
        "id": "9cySHRLh6Gav",
        "outputId": "fe012259-f237-4c14-c506-31aed1e83271"
      },
      "outputs": [
        {
          "output_type": "stream",
          "name": "stdout",
          "text": [
            "1\n",
            "2\n",
            "3\n",
            "4\n",
            "5\n",
            "6\n",
            "7\n",
            "8\n",
            "9\n",
            "10\n"
          ]
        }
      ],
      "source": [
        "i = 1  #this is the variable which is set to 1\n",
        "while i < 11: #this line starts a loop and it keeps going on until the condiontion is true.\n",
        "  print(i) #it prints the value of variable i\n",
        "  i+=1 #this line basically adds 1 to the vaule of i and keeps going until 10 since that is the condition given in the loop."
      ]
    },
    {
      "cell_type": "markdown",
      "source": [
        "Q2."
      ],
      "metadata": {
        "id": "dAMiPpVh6s6p"
      }
    },
    {
      "cell_type": "code",
      "source": [
        "x = int(input(\"enter a number\"))\n",
        "counter = 0\n",
        "for b in range(x+1):\n",
        " counter +=b\n",
        "print(counter)"
      ],
      "metadata": {
        "id": "OQvDbhWT6nE0"
      },
      "execution_count": null,
      "outputs": []
    },
    {
      "cell_type": "markdown",
      "source": [
        "Q3."
      ],
      "metadata": {
        "id": "KXlRnp5a68pq"
      }
    },
    {
      "cell_type": "code",
      "source": [
        "a = int(input(\"enter your First  grade \"))\n",
        "b = int(input(\"enter your Second grade \"))\n",
        "c = int(input(\"enter your Third grade\"))\n",
        "d = int(input(\"enter your Fourth grade \"))\n",
        "f = int(input(\"enter your Fifth grade \"))\n",
        "\n",
        "grades = [a, b, c, d, f]\n",
        "\n",
        "average = (a + b + c + d + f) / 5\n",
        "\n",
        "if average >= 90:\n",
        "    print(average, \"your grade is a\")\n",
        "elif average >= 75:\n",
        "  print(average, \"your grade is b\")\n",
        "elif average >= 50:\n",
        "  print(average, \"your grade is c\")\n",
        "else:\n",
        "  print(average, \"your grade is f\")"
      ],
      "metadata": {
        "id": "ArCSPOme6-fG"
      },
      "execution_count": null,
      "outputs": []
    },
    {
      "cell_type": "markdown",
      "source": [
        "Q4."
      ],
      "metadata": {
        "id": "XmtCZ2sF7NOS"
      }
    },
    {
      "cell_type": "code",
      "source": [
        "n = int(input(\"enter a number: \"))\n",
        "c = 0\n",
        "for i in range(1, n+1):\n",
        "    if i % 2 == 0:\n",
        "        c += i\n",
        "print(c)\n",
        "\n"
      ],
      "metadata": {
        "colab": {
          "base_uri": "https://localhost:8080/"
        },
        "id": "o3JnsQVu7OFJ",
        "outputId": "595deb93-5588-4620-f5c7-f255dcbbdd50"
      },
      "execution_count": 9,
      "outputs": [
        {
          "output_type": "stream",
          "name": "stdout",
          "text": [
            "enter a number: 5\n",
            "6\n"
          ]
        }
      ]
    }
  ]
}